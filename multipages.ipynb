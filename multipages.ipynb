{
 "cells": [
  {
   "cell_type": "code",
   "execution_count": null,
   "metadata": {},
   "outputs": [],
   "source": []
  },
  {
   "cell_type": "code",
   "execution_count": 5,
   "metadata": {},
   "outputs": [],
   "source": [
    "import pandas as pd\n",
    "import requests\n",
    "import numpy as np\n",
    "from bs4 import BeautifulSoup"
   ]
  },
  {
   "cell_type": "code",
   "execution_count": 6,
   "metadata": {},
   "outputs": [],
   "source": [
    "Movie_name =[]\n",
    "Year =[]\n",
    "IMDBRating = []\n",
    "Duration = []\n",
    "Genre = []\n",
    "rating=[]\n",
    "\n",
    "\n",
    "for i in range(2000,7000,50):\n",
    "\n",
    " url = f\"https://www.imdb.com/search/title/?countries=in&languages=te&adult=include&sort=year,asc&start={i}&ref_=adv_nxt\"\n",
    " response = requests.get(url)\n",
    "\n",
    " soup = BeautifulSoup(response.content,'html.parser')\n",
    " movie_data= soup.find_all('div', attrs={\"class\":'lister-item mode-advanced'})\n",
    "\n",
    " for store in movie_data:\n",
    "    name = store.h3.a.text\n",
    "    Movie_name.append(name)\n",
    "\n",
    "    release_year = store.h3.find('span',class_=\"lister-item-year text-muted unbold\").text\n",
    "    Year.append(release_year)\n",
    "\n",
    "    rate = store.find('div',class_=\"inline-block ratings-imdb-rating\") if store.find('div',class_=\"inline-block ratings-imdb-rating\") else 'NONE'\n",
    "\n",
    "    time = store.p.find('span',class_=\"runtime\").text if store.p.find('span',class_=\"runtime\") else \"NONE\"\n",
    "    Duration.append(time)\n",
    "\n",
    "    genre = store.p.find('span',class_=\"genre\").text.replace('\\n',\" \") if store.p.find('span',class_=\"genre\") else \"NONE\"\n",
    "    Genre.append(genre)\n",
    "    data =pd.DataFrame({'Title':Movie_name,'ReleaseYear':Year,'Time':Duration,'genre':Genre})\n",
    "    data.to_csv('OLD MOVIES3', index=False)"
   ]
  }
 ],
 "metadata": {
  "kernelspec": {
   "display_name": "Python 3",
   "language": "python",
   "name": "python3"
  },
  "language_info": {
   "codemirror_mode": {
    "name": "ipython",
    "version": 3
   },
   "file_extension": ".py",
   "mimetype": "text/x-python",
   "name": "python",
   "nbconvert_exporter": "python",
   "pygments_lexer": "ipython3",
   "version": "3.11.2"
  },
  "orig_nbformat": 4
 },
 "nbformat": 4,
 "nbformat_minor": 2
}
